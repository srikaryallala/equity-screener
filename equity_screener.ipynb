{
  "nbformat": 4,
  "nbformat_minor": 0,
  "metadata": {
    "colab": {
      "provenance": [],
      "authorship_tag": "ABX9TyMOFltsribTIDh5ZPjKcjks",
      "include_colab_link": true
    },
    "kernelspec": {
      "name": "python3",
      "display_name": "Python 3"
    },
    "language_info": {
      "name": "python"
    }
  },
  "cells": [
    {
      "cell_type": "markdown",
      "metadata": {
        "id": "view-in-github",
        "colab_type": "text"
      },
      "source": [
        "<a href=\"https://colab.research.google.com/github/srikaryallala/equity-screener/blob/main/equity_screener.ipynb\" target=\"_parent\"><img src=\"https://colab.research.google.com/assets/colab-badge.svg\" alt=\"Open In Colab\"/></a>"
      ]
    },
    {
      "cell_type": "code",
      "execution_count": null,
      "metadata": {
        "id": "crloAlZbHUDb"
      },
      "outputs": [],
      "source": [
        "import pandas as pd\n",
        "import yfinance as yf\n",
        "import datetime as dt\n",
        "from pandas.tseries.offsets import BDay"
      ]
    },
    {
      "cell_type": "code",
      "source": [
        "# Get S&P 500 tickers\n",
        "tickers = pd.read_html(\n",
        "    'https://en.wikipedia.org/wiki/List_of_S%26P_500_companies')[0]\n",
        "print(tickers.Symbol.head())"
      ],
      "metadata": {
        "colab": {
          "base_uri": "https://localhost:8080/"
        },
        "id": "WiAwTyf3LQvy",
        "outputId": "2bbe02c1-c81e-4b77-e340-ad082e4f4bf1"
      },
      "execution_count": null,
      "outputs": [
        {
          "output_type": "stream",
          "name": "stdout",
          "text": [
            "0     MMM\n",
            "1     AOS\n",
            "2     ABT\n",
            "3    ABBV\n",
            "4     ACN\n",
            "Name: Symbol, dtype: object\n"
          ]
        }
      ]
    },
    {
      "cell_type": "code",
      "source": [
        "# Get info for stocks\n",
        "info_data = []\n",
        "\n",
        "for ticker in tickers.Symbol:\n",
        "  info_data.append(pd.DataFrame([yf.Ticker(ticker).info]))\n",
        "\n",
        "ref_data = pd.concat(info_data)\n",
        "\n",
        "print(ref_data.head())"
      ],
      "metadata": {
        "colab": {
          "base_uri": "https://localhost:8080/"
        },
        "id": "U6jw8OD7IOSJ",
        "outputId": "c988e505-8fb7-43ca-a732-85c522a7bcf8"
      },
      "execution_count": null,
      "outputs": [
        {
          "output_type": "stream",
          "name": "stdout",
          "text": [
            "                address1           city state         zip        country  \\\n",
            "0              3M Center     Saint Paul    MN  55144-1000  United States   \n",
            "0  11270 West Park Place      Milwaukee    WI  53224-9508  United States   \n",
            "0   100 Abbott Park Road  North Chicago    IL  60064-6400  United States   \n",
            "0  1 North Waukegan Road  North Chicago    IL  60064-6400  United States   \n",
            "0   1 Grand Canal Square         Dublin   NaN    D02 P820        Ireland   \n",
            "\n",
            "            phone                    website                         industry  \\\n",
            "0    651 733 1110         https://www.3m.com                    Conglomerates   \n",
            "0    414 359 4000    https://www.aosmith.com   Specialty Industrial Machinery   \n",
            "0    224 667 6100     https://www.abbott.com                  Medical Devices   \n",
            "0    847 932 7900     https://www.abbvie.com     Drug Manufacturers - General   \n",
            "0  353 1 646 2000  https://www.accenture.com  Information Technology Services   \n",
            "\n",
            "                       industryKey                     industryDisp  ...  \\\n",
            "0                    conglomerates                    Conglomerates  ...   \n",
            "0   specialty-industrial-machinery   Specialty Industrial Machinery  ...   \n",
            "0                  medical-devices                  Medical Devices  ...   \n",
            "0       drug-manufacturers-general     Drug Manufacturers - General  ...   \n",
            "0  information-technology-services  Information Technology Services  ...   \n",
            "\n",
            "  revenueGrowth grossMargins ebitdaMargins operatingMargins  \\\n",
            "0        -0.008      0.43772       0.24084          0.12642   \n",
            "0         0.013      0.38689       0.21347          0.19657   \n",
            "0         0.022      0.55279       0.25653          0.14061   \n",
            "0         0.007      0.69174       0.49401          0.28018   \n",
            "0        -0.001      0.32578       0.17464          0.13683   \n",
            "\n",
            "   financialCurrency trailingPegRatio                 address2  trailingPE  \\\n",
            "0                USD              NaN                      NaN         NaN   \n",
            "0                USD           2.0445  Suite 170 PO Box 245008   21.955729   \n",
            "0                USD           5.8607              Abbott Park   33.313663   \n",
            "0                USD           0.4415                      NaN   59.601480   \n",
            "0                USD           2.1426      Grand Canal Harbour   27.485043   \n",
            "\n",
            "              fax  industrySymbol  \n",
            "0             NaN             NaN  \n",
            "0             NaN             NaN  \n",
            "0             NaN             NaN  \n",
            "0             NaN             NaN  \n",
            "0  353 1 646 2020             NaN  \n",
            "\n",
            "[5 rows x 135 columns]\n"
          ]
        }
      ]
    }
  ]
}